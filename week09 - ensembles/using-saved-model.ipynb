{
 "cells": [
  {
   "cell_type": "markdown",
   "id": "f62721b6",
   "metadata": {},
   "source": [
    "# Loading & Using a saved model"
   ]
  },
  {
   "cell_type": "code",
   "execution_count": null,
   "id": "aba0d4d7",
   "metadata": {},
   "outputs": [],
   "source": [
    "!ls"
   ]
  },
  {
   "cell_type": "code",
   "execution_count": null,
   "id": "11a12fe5-0236-43e6-904d-4d774a1cd3a5",
   "metadata": {},
   "outputs": [],
   "source": [
    "# !rm pipeline.pkl"
   ]
  },
  {
   "cell_type": "code",
   "execution_count": null,
   "id": "76cc6b9b",
   "metadata": {},
   "outputs": [],
   "source": [
    "import joblib\n",
    "\n",
    "pipeline = joblib.load('pipeline.pkl')\n",
    "\n",
    "pipeline"
   ]
  },
  {
   "cell_type": "code",
   "execution_count": null,
   "id": "695702e3",
   "metadata": {},
   "outputs": [],
   "source": [
    "sentences = [\n",
    "    'this is an awesome movie', \n",
    "    'this is a terrible movie', \n",
    "    'I really enjoyed this movie!'\n",
    "]\n",
    "\n",
    "for idx, prediction in enumerate(pipeline.predict(sentences)):\n",
    "    sentiment = 'positive' if prediction == 1 else 'negative'\n",
    "    print(sentences[idx], '=>', sentiment)\n"
   ]
  },
  {
   "cell_type": "code",
   "execution_count": null,
   "id": "bc13ea0c",
   "metadata": {},
   "outputs": [],
   "source": [
    "sentence = input('write a review >>')\n",
    "\n",
    "prediction = pipeline.predict([sentence])\n",
    "\n",
    "sentiment = 'positive' if prediction[0] == 1 else 'negative'\n",
    "print(sentiment)"
   ]
  },
  {
   "cell_type": "code",
   "execution_count": null,
   "id": "e8721522",
   "metadata": {},
   "outputs": [],
   "source": []
  }
 ],
 "metadata": {
  "kernelspec": {
   "display_name": "Python 3 (ipykernel)",
   "language": "python",
   "name": "python3"
  },
  "language_info": {
   "codemirror_mode": {
    "name": "ipython",
    "version": 3
   },
   "file_extension": ".py",
   "mimetype": "text/x-python",
   "name": "python",
   "nbconvert_exporter": "python",
   "pygments_lexer": "ipython3",
   "version": "3.12.7"
  },
  "toc": {
   "base_numbering": 1,
   "nav_menu": {},
   "number_sections": true,
   "sideBar": true,
   "skip_h1_title": false,
   "title_cell": "Table of Contents",
   "title_sidebar": "Contents",
   "toc_cell": false,
   "toc_position": {},
   "toc_section_display": true,
   "toc_window_display": false
  }
 },
 "nbformat": 4,
 "nbformat_minor": 5
}
